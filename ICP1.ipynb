{
 "cells": [
  {
   "cell_type": "code",
   "execution_count": 1,
   "id": "d3b16782",
   "metadata": {},
   "outputs": [
    {
     "name": "stdout",
     "output_type": "stream",
     "text": [
      "python\n",
      "noht\n"
     ]
    }
   ],
   "source": [
    "#input the string \"python\" as a list of characters\n",
    "s = list(input())\n",
    "\n",
    "#using if statement to make sure that the list is having more than two characters\n",
    "if len(s) >= 2:\n",
    "\n",
    "    #deleting the last two characters using \"del\" function\n",
    "    del s[:2]\n",
    "\n",
    "    #reversing the list using the \"reversed\" fucntion and converting the list into string by using the \"join\" function\n",
    "    reversed_s = ''.join(reversed(s))\n",
    "\n",
    "    #print the reversed string \n",
    "    print(reversed_s)\n",
    "\n",
    "#using else to make sure that the string is having more than two characters    \n",
    "else:\n",
    "\n",
    "    #print invalid output if the string is having less than two characters\n",
    "    print(\"invalid input\")\n",
    "    "
   ]
  },
  {
   "cell_type": "code",
   "execution_count": 2,
   "id": "5166e2c4",
   "metadata": {},
   "outputs": [
    {
     "name": "stdout",
     "output_type": "stream",
     "text": [
      "12.4\n",
      "2.8\n",
      "Sum: 15.2\n",
      "Difference: 9.600000000000001\n",
      "Product: 34.72\n",
      "Quotient: 4.428571428571429\n"
     ]
    }
   ],
   "source": [
    "# Take two numbers from the user and perform at least 4 arithmetic operations on them\n",
    "n1 = float(input())\n",
    "n2 = float(input())\n",
    "\n",
    "# Perform arithmetic operations\n",
    "addition = n1 + n2\n",
    "difference = n1 - n2\n",
    "product = n1 * n2\n",
    "quotient = n1 / n2\n",
    "\n",
    "# Print the results\n",
    "print(\"Sum:\", addition)\n",
    "print(\"Difference:\", difference)\n",
    "print(\"Product:\", product)\n",
    "print(\"Quotient:\", quotient)"
   ]
  },
  {
   "cell_type": "code",
   "execution_count": 3,
   "id": "83c5346e",
   "metadata": {},
   "outputs": [
    {
     "name": "stdout",
     "output_type": "stream",
     "text": [
      "I love typing python\n",
      "I love typing pythons\n"
     ]
    }
   ],
   "source": [
    "#input a sentence \n",
    "s = input()\n",
    "\n",
    "#using the \"replace\" function to replace every occurance of python with pythons\n",
    "new_s = s.replace('python', 'pythons')\n",
    "\n",
    "#print the new sentence with changes\n",
    "print(new_s)\n",
    "\n"
   ]
  },
  {
   "cell_type": "code",
   "execution_count": 4,
   "id": "3c32f22a",
   "metadata": {},
   "outputs": [
    {
     "name": "stdout",
     "output_type": "stream",
     "text": [
      "99\n",
      "A\n"
     ]
    }
   ],
   "source": [
    "#input a positive number less than or equal to 100\n",
    "s = int(input())\n",
    "\n",
    "#using if to make sure that the given number is less than or equal to hundred \n",
    "if s > 100:\n",
    "    print(\"invalid input\")\n",
    "\n",
    "#from the below code we can get the grade for the corresponding marks\n",
    "elif s >= 90:\n",
    "        print(\"A\")\n",
    "elif s >= 80:\n",
    "        print(\"B\")\n",
    "elif s >= 70:\n",
    "         print(\"C\")\n",
    "elif s >= 60:\n",
    "         print(\"D\")\n",
    "else:\n",
    "         print(\"F\")\n"
   ]
  },
  {
   "cell_type": "code",
   "execution_count": null,
   "id": "e83d9a4d",
   "metadata": {},
   "outputs": [],
   "source": []
  }
 ],
 "metadata": {
  "kernelspec": {
   "display_name": "Python 3 (ipykernel)",
   "language": "python",
   "name": "python3"
  },
  "language_info": {
   "codemirror_mode": {
    "name": "ipython",
    "version": 3
   },
   "file_extension": ".py",
   "mimetype": "text/x-python",
   "name": "python",
   "nbconvert_exporter": "python",
   "pygments_lexer": "ipython3",
   "version": "3.11.5"
  }
 },
 "nbformat": 4,
 "nbformat_minor": 5
}
